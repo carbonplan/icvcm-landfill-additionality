{
 "cells": [
  {
   "cell_type": "code",
   "execution_count": 1,
   "id": "cdbcc795",
   "metadata": {},
   "outputs": [],
   "source": [
    "import json\n",
    "import time\n",
    "\n",
    "from bs4 import BeautifulSoup\n",
    "import pandas as pd\n",
    "import requests"
   ]
  },
  {
   "cell_type": "code",
   "execution_count": 2,
   "id": "bd0e5078",
   "metadata": {},
   "outputs": [],
   "source": [
    "def find_gaps(data):\n",
    "    \"\"\"Calculate i) the span of min/max vintage years and ii) the number of vintage years credits have been issued\"\"\"\n",
    "    delta_vintage = data['vintage'].max() - data['vintage'].min() + 1\n",
    "    n_vintage = data['vintage'].nunique()\n",
    "    return delta_vintage - n_vintage "
   ]
  },
  {
   "cell_type": "code",
   "execution_count": 3,
   "id": "23572d69",
   "metadata": {},
   "outputs": [],
   "source": [
    "credits = pd.read_parquet('https://carbonplan-offsets-db.s3.us-west-2.amazonaws.com/final/2024-06-12/credits-augmented.parquet')\n",
    "issuances = credits[(credits['transaction_type'] == 'issuance') & (credits['project_id'].str.startswith('CAR'))] # only interested in CAR projects here\n",
    "\n",
    "projects = pd.read_parquet('https://carbonplan-offsets-db.s3.us-west-2.amazonaws.com/final/2024-06-12/projects-augmented.parquet')"
   ]
  },
  {
   "cell_type": "code",
   "execution_count": 4,
   "id": "051cc355",
   "metadata": {},
   "outputs": [],
   "source": [
    "gappy_subset = issuances.groupby('project_id').apply(find_gaps)\n",
    "#gappy_proj_lst = gappy_subset[gappy_subset].index.values.tolist()\n",
    "\n",
    "car_w_gaps = gappy_subset[gappy_subset >= 3].index.tolist()"
   ]
  },
  {
   "cell_type": "markdown",
   "id": "e73b8465",
   "metadata": {},
   "source": [
    "Downloaded `car-v6-landfills` by going to https://thereserve2.apx.com/mymodule/mypage.asp.\n",
    "Filter by `project type` == \"landfill\" and `protocol version` == 6.0. \n"
   ]
  },
  {
   "cell_type": "code",
   "execution_count": 5,
   "id": "ea306488",
   "metadata": {},
   "outputs": [],
   "source": [
    "v6_landfills = pd.read_csv('data/car-v6-landfills.csv') "
   ]
  },
  {
   "cell_type": "code",
   "execution_count": 6,
   "id": "1379c272",
   "metadata": {},
   "outputs": [
    {
     "data": {
      "text/plain": [
       "['CAR466', 'CAR473', 'CAR512', 'CAR514', 'CAR515', 'CAR516']"
      ]
     },
     "metadata": {},
     "output_type": "display_data"
    }
   ],
   "source": [
    "gappy_v6_landfills = list(set(car_w_gaps) & set(v6_landfills['Project ID'].tolist()))\n",
    "display(sorted(gappy_v6_landfills))"
   ]
  },
  {
   "cell_type": "code",
   "execution_count": 11,
   "id": "c7cf7df1",
   "metadata": {},
   "outputs": [],
   "source": [
    "non_additional = v6_landfills[v6_landfills['Project ID'].isin(gappy_v6_landfills)]['Total Offset Credits Issued'].sum() "
   ]
  },
  {
   "cell_type": "code",
   "execution_count": 12,
   "id": "3d9a81c4",
   "metadata": {},
   "outputs": [],
   "source": [
    "total = v6_landfills['Total Offset Credits Issued'].sum()"
   ]
  },
  {
   "cell_type": "code",
   "execution_count": 13,
   "id": "41836b36",
   "metadata": {},
   "outputs": [
    {
     "data": {
      "text/plain": [
       "'Non-additional credits: 0.41 million'"
      ]
     },
     "metadata": {},
     "output_type": "display_data"
    }
   ],
   "source": [
    "display(f\"Non-additional credits: {non_additional / 1_000_000:.2f} million\")"
   ]
  },
  {
   "cell_type": "code",
   "execution_count": 14,
   "id": "d84242b3",
   "metadata": {},
   "outputs": [
    {
     "data": {
      "text/plain": [
       "'Total issuance v6 landifll: 0.84 million'"
      ]
     },
     "metadata": {},
     "output_type": "display_data"
    }
   ],
   "source": [
    "display(f\"Total issuance v6 landifll: {total / 1_000_000:.2f} million\")"
   ]
  },
  {
   "cell_type": "code",
   "execution_count": 15,
   "id": "30f7a71a",
   "metadata": {},
   "outputs": [
    {
     "data": {
      "text/plain": [
       "'Percent over-crediting: 49.3 percent'"
      ]
     },
     "metadata": {},
     "output_type": "display_data"
    }
   ],
   "source": [
    "display(f\"Percent over-crediting: {non_additional / total*100:.1f} percent\")"
   ]
  },
  {
   "cell_type": "code",
   "execution_count": 16,
   "id": "495a9ff7",
   "metadata": {},
   "outputs": [
    {
     "data": {
      "text/plain": [
       "'Number of credited v6 projects: 14'"
      ]
     },
     "metadata": {},
     "output_type": "display_data"
    }
   ],
   "source": [
    "n_projects = v6_landfills['Project ID'].nunique()\n",
    "display(f\"Number of credited v6 projects: {n_projects}\")"
   ]
  },
  {
   "cell_type": "markdown",
   "id": "d0500534",
   "metadata": {},
   "source": [
    "Get EPA FLIGHT Data. \n",
    "The first step is to find the entity id for each project.\n",
    "This involved searching for projects by name in the tool.\n",
    "For all projects, we confirmed the address on project paperwork matched the address of the landfill in the EPA database."
   ]
  },
  {
   "cell_type": "code",
   "execution_count": 17,
   "id": "a825e267",
   "metadata": {},
   "outputs": [],
   "source": [
    "project_epa_map = {\n",
    "    \"CAR515\": 1003621,\n",
    "    \"CAR516\": 1007808,\n",
    "    \"CAR512\": 1005900,\n",
    "    \"CAR466\": 1002863,\n",
    "    \"CAR514\": 1005730,\n",
    "    \"CAR473\": 1007282,\n",
    "    \n",
    "}"
   ]
  },
  {
   "cell_type": "code",
   "execution_count": 18,
   "id": "72a0e8d3",
   "metadata": {},
   "outputs": [],
   "source": [
    "def get_vintage_years(data):\n",
    "    \"\"\"Get years project has received credits\"\"\"\n",
    "    return {\"credit_data\": data[(data['transaction_type'] == 'issuance') & (data['vintage'] >=2010)].vintage.unique().tolist()}\n",
    "\n",
    "def get_flight_data(landfill_id, year):\n",
    "    \"\"\"Download and extract data by entity id and year\"\"\"\n",
    "    url = f\"https://ghgdata.epa.gov/ghgp/service/xml/{year}?id={landfill_id}&et=undefined\"\n",
    "    r = requests.get(url)\n",
    "    soup = BeautifulSoup(r.content)\n",
    "    record = {}\n",
    "    record['n_wells'] = int(soup.find('numberofwells').text)\n",
    "    record['gccs_capacity'] = int(soup.find('systemcapacity').find('measurevalue').text)\n",
    "    record['active_gccs'] = True if soup.find('islandfillgascollectionsystemindicator').text == 'Y' else False\n",
    "    record['year'] = int(soup.find('reportingyear').text) # just to make sure iterating correctly\n",
    "    time.sleep(1) # be kind to the endpoint\n",
    "    return record"
   ]
  },
  {
   "cell_type": "code",
   "execution_count": 19,
   "id": "76a84890",
   "metadata": {},
   "outputs": [],
   "source": [
    "records = issuances[issuances.project_id.isin(project_epa_map.keys())].groupby('project_id').apply(get_vintage_years).to_dict()"
   ]
  },
  {
   "cell_type": "code",
   "execution_count": 20,
   "id": "092645f6",
   "metadata": {},
   "outputs": [],
   "source": [
    "flight_data = {}\n",
    "for project_id in records.keys():\n",
    "    years = range(2010, 2023)\n",
    "    flight_data[project_id] = {year: get_flight_data(project_epa_map[project_id], year) for year in years}"
   ]
  },
  {
   "cell_type": "code",
   "execution_count": 21,
   "id": "620677ae",
   "metadata": {},
   "outputs": [],
   "source": [
    "for project_id, facility_data in flight_data.items():\n",
    "    active_gccs = [k for k,v in facility_data.items() if v['active_gccs']]\n",
    "    records[project_id]['epa_data'] = active_gccs"
   ]
  },
  {
   "cell_type": "code",
   "execution_count": 22,
   "id": "3e4a9cd4",
   "metadata": {},
   "outputs": [
    {
     "data": {
      "text/plain": [
       "{'CAR466': {'credit_data': [2010, 2011, 2012, 2013, 2014, 2015, 2016, 2022],\n",
       "  'epa_data': [2010,\n",
       "   2011,\n",
       "   2012,\n",
       "   2013,\n",
       "   2014,\n",
       "   2015,\n",
       "   2016,\n",
       "   2017,\n",
       "   2018,\n",
       "   2019,\n",
       "   2020,\n",
       "   2021,\n",
       "   2022]},\n",
       " 'CAR473': {'credit_data': [2010, 2011, 2018, 2019, 2020, 2021, 2022],\n",
       "  'epa_data': [2010,\n",
       "   2011,\n",
       "   2012,\n",
       "   2013,\n",
       "   2014,\n",
       "   2015,\n",
       "   2016,\n",
       "   2017,\n",
       "   2018,\n",
       "   2019,\n",
       "   2020,\n",
       "   2021,\n",
       "   2022]},\n",
       " 'CAR512': {'credit_data': [2010,\n",
       "   2011,\n",
       "   2012,\n",
       "   2013,\n",
       "   2014,\n",
       "   2015,\n",
       "   2016,\n",
       "   2017,\n",
       "   2021,\n",
       "   2022,\n",
       "   2023],\n",
       "  'epa_data': [2010,\n",
       "   2011,\n",
       "   2012,\n",
       "   2013,\n",
       "   2014,\n",
       "   2015,\n",
       "   2016,\n",
       "   2017,\n",
       "   2018,\n",
       "   2019,\n",
       "   2020,\n",
       "   2021,\n",
       "   2022]},\n",
       " 'CAR514': {'credit_data': [2010, 2011, 2012, 2022],\n",
       "  'epa_data': [2010,\n",
       "   2011,\n",
       "   2012,\n",
       "   2013,\n",
       "   2014,\n",
       "   2015,\n",
       "   2016,\n",
       "   2017,\n",
       "   2018,\n",
       "   2019,\n",
       "   2020,\n",
       "   2021,\n",
       "   2022]},\n",
       " 'CAR515': {'credit_data': [2010, 2011, 2022],\n",
       "  'epa_data': [2010,\n",
       "   2011,\n",
       "   2012,\n",
       "   2013,\n",
       "   2014,\n",
       "   2015,\n",
       "   2016,\n",
       "   2017,\n",
       "   2018,\n",
       "   2019,\n",
       "   2020,\n",
       "   2021,\n",
       "   2022]},\n",
       " 'CAR516': {'credit_data': [2010, 2011, 2022],\n",
       "  'epa_data': [2010,\n",
       "   2011,\n",
       "   2012,\n",
       "   2013,\n",
       "   2014,\n",
       "   2015,\n",
       "   2016,\n",
       "   2017,\n",
       "   2018,\n",
       "   2019,\n",
       "   2020,\n",
       "   2021,\n",
       "   2022]}}"
      ]
     },
     "metadata": {},
     "output_type": "display_data"
    }
   ],
   "source": [
    "display(records)"
   ]
  },
  {
   "cell_type": "code",
   "execution_count": null,
   "id": "8dc1cee4",
   "metadata": {},
   "outputs": [],
   "source": [
    "with open('/tmp/gappy-landfill-data.json', 'w') as f: # for frontend\n",
    "    json.dump(records, f)"
   ]
  }
 ],
 "metadata": {
  "kernelspec": {
   "display_name": "Python 3 (ipykernel)",
   "language": "python",
   "name": "python3"
  },
  "language_info": {
   "codemirror_mode": {
    "name": "ipython",
    "version": 3
   },
   "file_extension": ".py",
   "mimetype": "text/x-python",
   "name": "python",
   "nbconvert_exporter": "python",
   "pygments_lexer": "ipython3",
   "version": "3.9.6"
  }
 },
 "nbformat": 4,
 "nbformat_minor": 5
}
